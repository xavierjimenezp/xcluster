{
 "metadata": {
  "language_info": {
   "codemirror_mode": {
    "name": "ipython",
    "version": 3
   },
   "file_extension": ".py",
   "mimetype": "text/x-python",
   "name": "python",
   "nbconvert_exporter": "python",
   "pygments_lexer": "ipython3",
   "version": "3.8.5-final"
  },
  "orig_nbformat": 2,
  "kernelspec": {
   "name": "python3",
   "display_name": "Python 3.8.5 64-bit ('base': conda)",
   "metadata": {
    "interpreter": {
     "hash": "1920f167fa38fde0a2162fbec6ea3c1fc148c4227ef598607ed5c9ec6d7caab0"
    }
   }
  }
 },
 "nbformat": 4,
 "nbformat_minor": 2,
 "cells": [
  {
   "cell_type": "code",
   "execution_count": 2,
   "metadata": {},
   "outputs": [],
   "source": [
    "import matplotlib.pyplot as plt\n",
    "import numpy as np\n",
    "import healpy as hp"
   ]
  },
  {
   "cell_type": "code",
   "execution_count": null,
   "metadata": {},
   "outputs": [],
   "source": [
    "planck_path = '/n17data/jimenez/PLANCK/'\n",
    "planck_217 = hp.read_map(planck_path + \"HFI_SkyMap_217-field-IQU_2048_R3.00_full.fits\")\n",
    "hp.mollview(\n",
    "    planck_217,\n",
    "    coord=[\"G\", \"E\"],\n",
    "    title=\"Planck HFI 217 GHz frequency map\",\n",
    "    unit=\"mK\",\n",
    "    norm=\"hist\",\n",
    "    min=-1,\n",
    "    max=1,\n",
    ")\n",
    "hp.graticule()"
   ]
  }
 ]
}